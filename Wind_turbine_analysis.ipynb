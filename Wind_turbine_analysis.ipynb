{
 "cells": [
  {
   "cell_type": "code",
   "execution_count": 97,
   "metadata": {},
   "outputs": [],
   "source": [
    "# importing the required packages\n",
    "import pandas as pd\n",
    "import numpy as np\n",
    "from sklearn.decomposition import PCA"
   ]
  },
  {
   "cell_type": "code",
   "execution_count": 98,
   "metadata": {},
   "outputs": [],
   "source": [
    "# reading the input file\n",
    "data = pd.read_csv(r\"C:\\Users\\Chandu Jagarlamundi\\Desktop\\Thesis_Wind data\\Data Wind_extern\\data_eng.csv\")"
   ]
  },
  {
   "cell_type": "code",
   "execution_count": 99,
   "metadata": {
    "scrolled": true
   },
   "outputs": [
    {
     "name": "stdout",
     "output_type": "stream",
     "text": [
      "The number of missing values in the column apparent power are 780813 \n",
      "The number of missing values in the column generator speed are 437865 \n",
      "The number of missing values in the column nacelle view are 780813 \n",
      "The number of missing values in the column Digital 1 are 780813 \n",
      "The number of missing values in the column Digital 2 are 780813 \n",
      "The number of missing values in the column Three-phase current controller Setpoint are 780813 \n",
      "The number of missing values in the column wind direction deviation are 780813 \n",
      "The number of missing values in the column Average power 5 sec are 780813 \n",
      "The number of missing values in the column Average power 30 sec are 780813 \n",
      "The number of missing values in the column switched-on reactive power are 780813 \n",
      "The number of missing values in the column performance class are 780813 \n",
      "The number of missing values in the column Condition Sheet are 780813 \n",
      "The number of missing values in the column Number of comp. levels are 780813 \n"
     ]
    }
   ],
   "source": [
    "# deleting the columns which have lots of missing values\n",
    "columns_data = data.columns\n",
    "for i in columns_data:\n",
    "    if data[i].isna().sum()>(len(data)/2):\n",
    "        print(\"The number of missing values in the column {} are {} \".format(i,data[i].isna().sum()))\n",
    "        data.drop([i], axis = 1, inplace = True)\n",
    "columns_data = data.columns"
   ]
  },
  {
   "cell_type": "code",
   "execution_count": 100,
   "metadata": {},
   "outputs": [
    {
     "name": "stdout",
     "output_type": "stream",
     "text": [
      "Time difference is eliminated\n",
      "fast rateplay is eliminated\n"
     ]
    }
   ],
   "source": [
    "# deleting the columns which have single values\n",
    "for i in columns_data:\n",
    "    if len(data[i].value_counts())<2:\n",
    "        print(\"{} is eliminated\".format(i))\n",
    "        data.drop([i], axis = 1, inplace = True)\n",
    "columns_data = data.columns"
   ]
  },
  {
   "cell_type": "code",
   "execution_count": 101,
   "metadata": {},
   "outputs": [],
   "source": [
    "data.Equipment = data.Equipment[data.Equipment!='Anlage']\n",
    "# dropping the missing rows\n",
    "data.dropna(axis = 0, inplace=True)"
   ]
  },
  {
   "cell_type": "code",
   "execution_count": 102,
   "metadata": {},
   "outputs": [],
   "source": [
    "data.Equipment = pd.Categorical(data.Equipment, categories=data.Equipment.unique()).codes"
   ]
  },
  {
   "cell_type": "code",
   "execution_count": 103,
   "metadata": {},
   "outputs": [],
   "source": [
    "# the no.of different values in system status column\n",
    "len_status = len(data.loc[:, \"system status\"].value_counts())"
   ]
  },
  {
   "cell_type": "code",
   "execution_count": 104,
   "metadata": {},
   "outputs": [],
   "source": [
    "data.drop(['Date(Remote)', 'Time(Remote)', 'Date(Server)', 'Time(Server)', \"operating state\"], axis=1, inplace=True)"
   ]
  },
  {
   "cell_type": "code",
   "execution_count": 105,
   "metadata": {},
   "outputs": [],
   "source": [
    "# defining the target and removing it from the data\n",
    "target = data[\"system status\"]\n",
    "data.drop([\"system status\"], axis=1, inplace=True)\n",
    "columns_data = len(data.columns)"
   ]
  },
  {
   "cell_type": "code",
   "execution_count": 106,
   "metadata": {},
   "outputs": [],
   "source": [
    "# reading the anlagestatus file, to get the details regarding anlage status\n",
    "status_data = pd.read_excel(r\"C:\\Users\\Chandu Jagarlamundi\\Desktop\\Thesis_Wind data\\Data Wind_extern\\system_status.xlsx\")"
   ]
  },
  {
   "cell_type": "code",
   "execution_count": 107,
   "metadata": {
    "scrolled": true
   },
   "outputs": [
    {
     "data": {
      "text/plain": [
       "Index(['Status_Number', 'status_text', 'Stop_with_description', 'Reset',\n",
       "       'error_description', 'availability_key', 'Reset.1'],\n",
       "      dtype='object')"
      ]
     },
     "execution_count": 107,
     "metadata": {},
     "output_type": "execute_result"
    }
   ],
   "source": [
    "status_data.columns"
   ]
  },
  {
   "cell_type": "code",
   "execution_count": 108,
   "metadata": {},
   "outputs": [],
   "source": [
    "# getting the true values of systemstatus\n",
    "common_status = np.intersect1d(status_data['Status_Number'], target)"
   ]
  },
  {
   "cell_type": "code",
   "execution_count": 109,
   "metadata": {},
   "outputs": [],
   "source": [
    "# values that contain decimals\n",
    "float_status = target[~target.isin(common_status)]"
   ]
  },
  {
   "cell_type": "code",
   "execution_count": 110,
   "metadata": {},
   "outputs": [],
   "source": [
    "target_valid = target[~target.isin(float_status)]"
   ]
  },
  {
   "cell_type": "code",
   "execution_count": 123,
   "metadata": {},
   "outputs": [],
   "source": [
    "status = pd.DataFrame()\n",
    "status[\"Status_number\"] = status_data.Status_Number\n",
    "status[\"status_text\"] = status_data.status_text\n",
    "status.dropna(axis=0, inplace=True)"
   ]
  },
  {
   "cell_type": "code",
   "execution_count": 124,
   "metadata": {},
   "outputs": [
    {
     "name": "stderr",
     "output_type": "stream",
     "text": [
      "C:\\ProgramData\\Anaconda3\\lib\\site-packages\\ipykernel_launcher.py:1: UserWarning: DataFrame columns are not unique, some columns will be omitted.\n",
      "  \"\"\"Entry point for launching an IPython kernel.\n"
     ]
    }
   ],
   "source": [
    "status_text = status.set_index(\"Status_number\").T.to_dict('list')"
   ]
  },
  {
   "cell_type": "code",
   "execution_count": 126,
   "metadata": {
    "scrolled": true
   },
   "outputs": [],
   "source": [
    "target_valid = target_valid.map(status_text)"
   ]
  },
  {
   "cell_type": "code",
   "execution_count": 130,
   "metadata": {
    "scrolled": false
   },
   "outputs": [
    {
     "data": {
      "text/plain": [
       "[NO ERRORS.]                                           541595\n",
       "[STORM SHUTDOWN]                                        83514\n",
       "[PROGRAM START SPS]                                     36135\n",
       "[MANUAL STOP]                                           24687\n",
       "[PITCH AXIS 2 SPEED LOSS DETECTED]                       1118\n",
       "[INVALID PWA, ROTOR BRIDGE PLATE]                         652\n",
       "[PITCH AXIS 3 SPEED LOSS DETECTED]                        418\n",
       "[EXCESS FREQUENCY]                                        220\n",
       "[MISSING MARKER PULSES PITCH AXIS 2 DETECTED]             197\n",
       "[SYSTEM OK]                                               157\n",
       "[PITCH BEARING ROTARY FUNCTION RUNS]                      139\n",
       "[PITCH AXIS 3 PHASE FAILURE DETECTED]                     117\n",
       "[UNDERVOLTAGE]                                            105\n",
       "[PITCH AXIS 3 SAFETY RELAYS FAILED]                       100\n",
       "[PITCH AXIS 1 SPS COMMUNICATION NOT OK]                    99\n",
       "[MIS-CONFIGURATION BY PARAMETER]                           94\n",
       "[PITCH COMMUNICATION SHORT TIME ERROR AXIS 1]              90\n",
       "[EARTH FAULT, STATOR]                                      58\n",
       "[PITCH AXIS 2 WRONG ANGLE DETECTED AT LIMIT SWITCH]        50\n",
       "[TOOLBOX COMMUNICATION ERROR]                              38\n",
       "[VOLTAGE OFFSET, MAINS BRIDGE]                             13\n",
       "[GENERATOR INVALID]                                        12\n",
       "[IGBT DAMAGE]                                              11\n",
       "[EARTH FAULT, POWER CONVERTER]                              7\n",
       "[MALFUNCTION FAN MOTOR HFU SHEET 3]                         4\n",
       "[FIRMWARE PROCESS ERROR]                                    2\n",
       "[COOLING SYSTEM]                                            2\n",
       "[ERROR DATA ACQUISITION TEMP. MODULE]                       1\n",
       "[UNDERFREQUENCY WARNING FROM FU]                            1\n",
       "[REINITIALIZATION SYSTEM AFTER POWER FAILURE]               1\n",
       "[INTERFERENCE VOLTAGE ON MAINS SIDE]                        1\n",
       "[CIRCUIT BREAKER GENERATOR]                                 1\n",
       "[WIRING PROBLEM, ROTOR INVERTER OR STATOR]                  1\n",
       "[TRIANGLE POSITION]                                         1\n",
       "[BLADE TIP SPACING MODE]                                    1\n",
       "[INCREASING SPEED AT DECREASING. BLADE ANGLE]               1\n",
       "[WARNING BRAKE SHOPPER VFD]                                 1\n",
       "[MOTOR PROTECTION TOP ENCLOSURE]                            1\n",
       "[GENERATOR 3 OVERTEMPERATURE]                               1\n",
       "Name: system status, dtype: int64"
      ]
     },
     "execution_count": 130,
     "metadata": {},
     "output_type": "execute_result"
    }
   ],
   "source": [
    "target_valid.value_counts()"
   ]
  }
 ],
 "metadata": {
  "kernelspec": {
   "display_name": "Python 3",
   "language": "python",
   "name": "python3"
  },
  "language_info": {
   "codemirror_mode": {
    "name": "ipython",
    "version": 3
   },
   "file_extension": ".py",
   "mimetype": "text/x-python",
   "name": "python",
   "nbconvert_exporter": "python",
   "pygments_lexer": "ipython3",
   "version": "3.7.0"
  }
 },
 "nbformat": 4,
 "nbformat_minor": 2
}
