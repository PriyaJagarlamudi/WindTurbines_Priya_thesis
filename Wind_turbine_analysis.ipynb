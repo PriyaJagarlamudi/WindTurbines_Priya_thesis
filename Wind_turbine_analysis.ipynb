{
 "cells": [
  {
   "cell_type": "code",
   "execution_count": 1,
   "metadata": {},
   "outputs": [
    {
     "name": "stderr",
     "output_type": "stream",
     "text": [
      "C:\\ProgramData\\Anaconda3\\lib\\site-packages\\sklearn\\ensemble\\weight_boosting.py:29: DeprecationWarning: numpy.core.umath_tests is an internal NumPy module and should not be imported. It will be removed in a future NumPy release.\n",
      "  from numpy.core.umath_tests import inner1d\n"
     ]
    }
   ],
   "source": [
    "# importing the required packages\n",
    "import pandas as pd\n",
    "import numpy as np\n",
    "from sklearn.model_selection import train_test_split\n",
    "from sklearn.ensemble import RandomForestClassifier\n",
    "from sklearn.tree import DecisionTreeClassifier\n",
    "from sklearn.metrics import confusion_matrix, precision_score, recall_score, accuracy_score"
   ]
  },
  {
   "cell_type": "code",
   "execution_count": 2,
   "metadata": {},
   "outputs": [],
   "source": [
    "# reading the input file\n",
    "data = pd.read_csv(r\"C:\\Users\\Chandu Jagarlamundi\\Desktop\\Thesis_Wind data\\Data Wind_extern\\data_eng.csv\")"
   ]
  },
  {
   "cell_type": "code",
   "execution_count": 3,
   "metadata": {
    "scrolled": true
   },
   "outputs": [
    {
     "name": "stdout",
     "output_type": "stream",
     "text": [
      "The number of missing values in the column apparent_power are 780813\n",
      "The number of missing values in the column generator_speed are 437865\n",
      "The number of missing values in the column nacelle_view are 780813\n",
      "The number of missing values in the column Digital _1 are 780813\n",
      "The number of missing values in the column Digital_2 are 780813\n",
      "The number of missing values in the column Three_phase_current_controller_Setpoint are 780813\n",
      "The number of missing values in the column wind_direction_deviation are 780813\n",
      "The number of missing values in the column Average_power_5_sec are 780813\n",
      "The number of missing values in the column Average_power_30_sec are 780813\n",
      "The number of missing values in the column switched_on_reactive_power are 780813\n",
      "The number of missing values in the column performance_class are 780813\n",
      "The number of missing values in the column Condition_Sheet are 780813\n",
      "The number of missing values in the column No_comp_levels are 780813\n"
     ]
    }
   ],
   "source": [
    "# deleting the columns which have lots of missing values\n",
    "columns_data = data.columns\n",
    "for i in columns_data:\n",
    "    if data[i].isna().sum()>(len(data)/2):\n",
    "        print(\"The number of missing values in the column {} are {}\".format(i,data[i].isna().sum()))\n",
    "        data.drop([i], axis = 1, inplace = True)\n",
    "columns_data = data.columns"
   ]
  },
  {
   "cell_type": "code",
   "execution_count": 4,
   "metadata": {},
   "outputs": [
    {
     "name": "stdout",
     "output_type": "stream",
     "text": [
      "Time_difference is eliminated\n",
      "fast_rateplay is eliminated\n"
     ]
    }
   ],
   "source": [
    "# deleting the columns which have single values\n",
    "for i in columns_data:\n",
    "    if len(data[i].value_counts())<2:\n",
    "        print(\"{} is eliminated\".format(i))\n",
    "        data.drop([i], axis = 1, inplace = True)\n",
    "columns_data = data.columns"
   ]
  },
  {
   "cell_type": "code",
   "execution_count": 5,
   "metadata": {},
   "outputs": [],
   "source": [
    "data.Equipment = data.Equipment[data.Equipment!='Anlage']\n",
    "# dropping the missing rows\n",
    "data.dropna(axis = 0, inplace=True)"
   ]
  },
  {
   "cell_type": "code",
   "execution_count": 6,
   "metadata": {},
   "outputs": [],
   "source": [
    "data.Equipment = pd.Categorical(data.Equipment, categories=data.Equipment.unique()).codes"
   ]
  },
  {
   "cell_type": "code",
   "execution_count": 7,
   "metadata": {},
   "outputs": [],
   "source": [
    "# the no.of different values in system status column\n",
    "len_status = len(data.loc[:, \"system_status\"].value_counts())"
   ]
  },
  {
   "cell_type": "code",
   "execution_count": 8,
   "metadata": {},
   "outputs": [],
   "source": [
    "data.drop(['Date(Remote)', 'Time(Remote)', 'Date(Server)', 'Time(Server)', \"operating_state\"], axis=1, inplace=True)"
   ]
  },
  {
   "cell_type": "code",
   "execution_count": 9,
   "metadata": {},
   "outputs": [],
   "source": [
    "# reading the anlagestatus file, to get the details regarding anlage status\n",
    "status_data = pd.read_excel(r\"C:\\Users\\Chandu Jagarlamundi\\Desktop\\Thesis_Wind data\\Data Wind_extern\\system_status.xlsx\")"
   ]
  },
  {
   "cell_type": "code",
   "execution_count": 10,
   "metadata": {},
   "outputs": [],
   "source": [
    "# getting the true values of systemstatus\n",
    "common_status = np.intersect1d(status_data['Status_Number'], data['system_status'])"
   ]
  },
  {
   "cell_type": "code",
   "execution_count": 11,
   "metadata": {},
   "outputs": [],
   "source": [
    "status = pd.DataFrame()\n",
    "status[\"Status_number\"] = status_data.Status_Number\n",
    "status[\"status_text\"] = status_data.status_text\n",
    "status.dropna(axis=0, inplace=True)"
   ]
  },
  {
   "cell_type": "code",
   "execution_count": 12,
   "metadata": {},
   "outputs": [
    {
     "name": "stderr",
     "output_type": "stream",
     "text": [
      "C:\\ProgramData\\Anaconda3\\lib\\site-packages\\ipykernel_launcher.py:1: UserWarning: DataFrame columns are not unique, some columns will be omitted.\n",
      "  \"\"\"Entry point for launching an IPython kernel.\n"
     ]
    }
   ],
   "source": [
    "status_text = status.set_index(\"Status_number\").T.to_dict('list')"
   ]
  },
  {
   "cell_type": "code",
   "execution_count": 13,
   "metadata": {},
   "outputs": [],
   "source": [
    "data_valid = data[data.system_status.isin(common_status)]"
   ]
  },
  {
   "cell_type": "code",
   "execution_count": 14,
   "metadata": {
    "scrolled": true
   },
   "outputs": [
    {
     "name": "stderr",
     "output_type": "stream",
     "text": [
      "C:\\ProgramData\\Anaconda3\\lib\\site-packages\\pandas\\core\\generic.py:4405: SettingWithCopyWarning: \n",
      "A value is trying to be set on a copy of a slice from a DataFrame.\n",
      "Try using .loc[row_indexer,col_indexer] = value instead\n",
      "\n",
      "See the caveats in the documentation: http://pandas.pydata.org/pandas-docs/stable/indexing.html#indexing-view-versus-copy\n",
      "  self[name] = value\n"
     ]
    }
   ],
   "source": [
    "data_valid.system_status = data_valid.system_status.map(status_text)"
   ]
  },
  {
   "cell_type": "code",
   "execution_count": 15,
   "metadata": {},
   "outputs": [
    {
     "data": {
      "text/plain": [
       "2.00       541595\n",
       "7.00        83514\n",
       "1.00        36135\n",
       "3.00        24687\n",
       "5.00         5952\n",
       "4.00         3849\n",
       "1094.00      3121\n",
       "2.62         1645\n",
       "2.61         1286\n",
       "1102.00      1204\n",
       "1051.00      1118\n",
       "2.60         1007\n",
       "1145.00       986\n",
       "1144.00       982\n",
       "2.58          766\n",
       "1177.00       739\n",
       "2.54          733\n",
       "1120.00       720\n",
       "2.50          682\n",
       "2.52          680\n",
       "2.56          653\n",
       "1212.00       652\n",
       "2.59          651\n",
       "2.57          577\n",
       "2.31          528\n",
       "2.29          515\n",
       "2.25          507\n",
       "2.02          496\n",
       "2.37          494\n",
       "2.04          485\n",
       "            ...  \n",
       "433.40          1\n",
       "72.49           1\n",
       "1079.08         1\n",
       "642.60          1\n",
       "500.47          1\n",
       "141.12          1\n",
       "502.47          1\n",
       "651.65          1\n",
       "8.36            1\n",
       "1068.58         1\n",
       "708.97          1\n",
       "693.01          1\n",
       "706.03          1\n",
       "933.13          1\n",
       "560.23          1\n",
       "814.49          1\n",
       "65.62           1\n",
       "575.48          1\n",
       "1061.33         1\n",
       "293.96          1\n",
       "110.90          1\n",
       "652.85          1\n",
       "853.36          1\n",
       "373.35          1\n",
       "1057.58         1\n",
       "810.51          1\n",
       "858.11          1\n",
       "271.27          1\n",
       "257.73          1\n",
       "502.51          1\n",
       "Name: system_status, Length: 2351, dtype: int64"
      ]
     },
     "execution_count": 15,
     "metadata": {},
     "output_type": "execute_result"
    }
   ],
   "source": [
    "data.system_status.value_counts()"
   ]
  },
  {
   "cell_type": "code",
   "execution_count": 16,
   "metadata": {},
   "outputs": [],
   "source": [
    "Data_1_turbine = pd.DataFrame()\n",
    "Data_2_turbine = pd.DataFrame()\n",
    "Data_3_turbine = pd.DataFrame()\n",
    "Data_4_turbine = pd.DataFrame()\n",
    "Data_5_turbine = pd.DataFrame()\n",
    "Data_6_turbine = pd.DataFrame()\n",
    "Data_7_turbine = pd.DataFrame()\n",
    "Data_8_turbine = pd.DataFrame()"
   ]
  },
  {
   "cell_type": "code",
   "execution_count": 17,
   "metadata": {},
   "outputs": [],
   "source": [
    "Data_1_turbine = data[data.Equipment==0]\n",
    "Data_2_turbine = data[data.Equipment==1]\n",
    "Data_3_turbine = data[data.Equipment==2]\n",
    "Data_4_turbine = data[data.Equipment==3]\n",
    "Data_5_turbine = data[data.Equipment==4]\n",
    "Data_6_turbine = data[data.Equipment==5]\n",
    "Data_7_turbine = data[data.Equipment==6]\n",
    "Data_8_turbine = data[data.Equipment==7]"
   ]
  },
  {
   "cell_type": "code",
   "execution_count": 18,
   "metadata": {
    "scrolled": true
   },
   "outputs": [],
   "source": [
    "target_valid_1 = Data_1_turbine['system_status'][Data_1_turbine['system_status'].isin(common_status)]\n",
    "target_valid_2 = Data_2_turbine['system_status'][Data_2_turbine['system_status'].isin(common_status)]\n",
    "target_valid_3 = Data_3_turbine['system_status'][Data_3_turbine['system_status'].isin(common_status)]\n",
    "target_valid_4 = Data_4_turbine['system_status'][Data_4_turbine['system_status'].isin(common_status)]\n",
    "target_valid_5 = Data_5_turbine['system_status'][Data_5_turbine['system_status'].isin(common_status)]\n",
    "target_valid_6 = Data_6_turbine['system_status'][Data_6_turbine['system_status'].isin(common_status)]\n",
    "target_valid_7 = Data_7_turbine['system_status'][Data_7_turbine['system_status'].isin(common_status)]\n",
    "target_valid_8 = Data_8_turbine['system_status'][Data_8_turbine['system_status'].isin(common_status)]"
   ]
  },
  {
   "cell_type": "code",
   "execution_count": 19,
   "metadata": {},
   "outputs": [],
   "source": [
    "target_valid_1 = target_valid_1.map(status_text)\n",
    "target_valid_2 = target_valid_2.map(status_text)\n",
    "target_valid_3 = target_valid_3.map(status_text)\n",
    "target_valid_4 = target_valid_4.map(status_text)\n",
    "target_valid_5 = target_valid_5.map(status_text)\n",
    "target_valid_6 = target_valid_6.map(status_text)\n",
    "target_valid_7 = target_valid_7.map(status_text)\n",
    "target_valid_8 = target_valid_8.map(status_text)"
   ]
  },
  {
   "cell_type": "code",
   "execution_count": 20,
   "metadata": {},
   "outputs": [],
   "source": [
    "data_sample = data[data['system_status'].isin(common_status)]"
   ]
  },
  {
   "cell_type": "code",
   "execution_count": 21,
   "metadata": {},
   "outputs": [],
   "source": [
    "data_sample= data_sample.sample(frac=0.1).reset_index(drop=True)"
   ]
  },
  {
   "cell_type": "code",
   "execution_count": 22,
   "metadata": {
    "scrolled": true
   },
   "outputs": [],
   "source": [
    "data_sample.Equipment = pd.Categorical(data_sample.Equipment)"
   ]
  },
  {
   "cell_type": "code",
   "execution_count": 23,
   "metadata": {},
   "outputs": [],
   "source": [
    "data_sample = pd.concat([data_sample, pd.get_dummies(data_sample.Equipment)], axis=1)\n",
    "data_sample.drop(['Equipment'], axis=1, inplace=True)"
   ]
  },
  {
   "cell_type": "code",
   "execution_count": 24,
   "metadata": {
    "scrolled": true
   },
   "outputs": [],
   "source": [
    "target_sample = data_sample['system_status']\n",
    "data_sample.drop(['system_status'], axis=1, inplace=True)"
   ]
  },
  {
   "cell_type": "code",
   "execution_count": 25,
   "metadata": {},
   "outputs": [
    {
     "data": {
      "text/plain": [
       "count    68965.000000\n",
       "mean         7.924135\n",
       "std         76.685087\n",
       "min          1.000000\n",
       "25%          2.000000\n",
       "50%          2.000000\n",
       "75%          2.000000\n",
       "max       1423.000000\n",
       "Name: system_status, dtype: float64"
      ]
     },
     "execution_count": 25,
     "metadata": {},
     "output_type": "execute_result"
    }
   ],
   "source": [
    "target_sample.describe()"
   ]
  },
  {
   "cell_type": "code",
   "execution_count": 26,
   "metadata": {},
   "outputs": [],
   "source": [
    "system_stats = pd.factorize(target_sample)\n",
    "target_sample = system_stats[0]"
   ]
  },
  {
   "cell_type": "code",
   "execution_count": 27,
   "metadata": {},
   "outputs": [
    {
     "data": {
      "text/plain": [
       "array([0, 1, 1, ..., 1, 1, 1], dtype=int64)"
      ]
     },
     "execution_count": 27,
     "metadata": {},
     "output_type": "execute_result"
    }
   ],
   "source": [
    "target_sample"
   ]
  },
  {
   "cell_type": "code",
   "execution_count": 28,
   "metadata": {},
   "outputs": [],
   "source": [
    "train_x, val_x, train_y, val_y = train_test_split(data_sample, target_sample, test_size=0.33, random_state=42)"
   ]
  },
  {
   "cell_type": "code",
   "execution_count": 29,
   "metadata": {},
   "outputs": [],
   "source": [
    "classifier = RandomForestClassifier(n_estimators = 10, criterion = 'entropy', random_state = 42)"
   ]
  },
  {
   "cell_type": "code",
   "execution_count": 30,
   "metadata": {},
   "outputs": [
    {
     "data": {
      "text/plain": [
       "RandomForestClassifier(bootstrap=True, class_weight=None, criterion='entropy',\n",
       "            max_depth=None, max_features='auto', max_leaf_nodes=None,\n",
       "            min_impurity_decrease=0.0, min_impurity_split=None,\n",
       "            min_samples_leaf=1, min_samples_split=2,\n",
       "            min_weight_fraction_leaf=0.0, n_estimators=10, n_jobs=1,\n",
       "            oob_score=False, random_state=42, verbose=0, warm_start=False)"
      ]
     },
     "execution_count": 30,
     "metadata": {},
     "output_type": "execute_result"
    }
   ],
   "source": [
    "classifier.fit(train_x, train_y)"
   ]
  },
  {
   "cell_type": "code",
   "execution_count": 31,
   "metadata": {},
   "outputs": [],
   "source": [
    "pred_y = classifier.predict(val_x)"
   ]
  },
  {
   "cell_type": "code",
   "execution_count": 32,
   "metadata": {},
   "outputs": [],
   "source": [
    "acc = accuracy_score(val_y, pred_y)"
   ]
  },
  {
   "cell_type": "code",
   "execution_count": 33,
   "metadata": {},
   "outputs": [],
   "source": [
    "data_check = data[~data['system_status'].isin(common_status)]"
   ]
  },
  {
   "cell_type": "code",
   "execution_count": 34,
   "metadata": {},
   "outputs": [
    {
     "name": "stderr",
     "output_type": "stream",
     "text": [
      "C:\\ProgramData\\Anaconda3\\lib\\site-packages\\pandas\\core\\generic.py:4405: SettingWithCopyWarning: \n",
      "A value is trying to be set on a copy of a slice from a DataFrame.\n",
      "Try using .loc[row_indexer,col_indexer] = value instead\n",
      "\n",
      "See the caveats in the documentation: http://pandas.pydata.org/pandas-docs/stable/indexing.html#indexing-view-versus-copy\n",
      "  self[name] = value\n"
     ]
    }
   ],
   "source": [
    "data_check.Equipment = pd.Categorical(data_check.Equipment)"
   ]
  },
  {
   "cell_type": "code",
   "execution_count": 35,
   "metadata": {},
   "outputs": [],
   "source": [
    "data_check = pd.concat([data_check, pd.get_dummies(data_check.Equipment)], axis=1)\n",
    "data_check.drop(['Equipment'], axis=1, inplace=True)"
   ]
  },
  {
   "cell_type": "code",
   "execution_count": 36,
   "metadata": {},
   "outputs": [],
   "source": [
    "target_check = data_check['system_status']\n",
    "data_check.drop(['system_status'], axis=1, inplace=True)"
   ]
  },
  {
   "cell_type": "code",
   "execution_count": 37,
   "metadata": {},
   "outputs": [],
   "source": [
    "pred_check = classifier.predict(data_check)"
   ]
  },
  {
   "cell_type": "code",
   "execution_count": 38,
   "metadata": {},
   "outputs": [
    {
     "data": {
      "text/plain": [
       "36        2.28\n",
       "38        2.41\n",
       "39        2.42\n",
       "41        2.62\n",
       "43        2.48\n",
       "44        2.01\n",
       "62        2.11\n",
       "64        2.76\n",
       "66        2.45\n",
       "68        1.53\n",
       "69        4.44\n",
       "81        4.21\n",
       "83        2.23\n",
       "227       2.12\n",
       "229       2.73\n",
       "244       2.29\n",
       "246       2.62\n",
       "247       2.19\n",
       "257       2.36\n",
       "259       2.26\n",
       "260       1.69\n",
       "262       2.31\n",
       "264       2.97\n",
       "265       2.62\n",
       "267       2.46\n",
       "269       2.53\n",
       "271       2.35\n",
       "272       2.77\n",
       "274       2.47\n",
       "276       2.33\n",
       "          ... \n",
       "779890    2.10\n",
       "779892    2.57\n",
       "779900    2.07\n",
       "779902    2.83\n",
       "779903    1.65\n",
       "779905    2.52\n",
       "779907    2.79\n",
       "779908    2.83\n",
       "779909    2.93\n",
       "779911    2.92\n",
       "779912    2.60\n",
       "779913    2.72\n",
       "779914    2.68\n",
       "779915    2.27\n",
       "779921    2.41\n",
       "779923    2.56\n",
       "780176    2.29\n",
       "780177    2.62\n",
       "780185    2.80\n",
       "780187    2.41\n",
       "780189    1.95\n",
       "780194    1.40\n",
       "780196    2.58\n",
       "780197    1.20\n",
       "780199    2.78\n",
       "780200    2.62\n",
       "780202    2.62\n",
       "780203    2.24\n",
       "780681    2.08\n",
       "780683    2.42\n",
       "Name: system_status, Length: 90992, dtype: float64"
      ]
     },
     "execution_count": 38,
     "metadata": {},
     "output_type": "execute_result"
    }
   ],
   "source": [
    "target_check"
   ]
  },
  {
   "cell_type": "code",
   "execution_count": 39,
   "metadata": {},
   "outputs": [
    {
     "data": {
      "text/plain": [
       "array([1, 3, 3, ..., 1, 1, 1], dtype=int64)"
      ]
     },
     "execution_count": 39,
     "metadata": {},
     "output_type": "execute_result"
    }
   ],
   "source": [
    "pred_check"
   ]
  },
  {
   "cell_type": "code",
   "execution_count": 40,
   "metadata": {},
   "outputs": [
    {
     "data": {
      "text/plain": [
       "<matplotlib.axes._subplots.AxesSubplot at 0x1d61ac7ff98>"
      ]
     },
     "execution_count": 40,
     "metadata": {},
     "output_type": "execute_result"
    }
   ],
   "source": [
    "feats = {} # a dict to hold feature_name: feature_importance\n",
    "for feature, importance in zip(data_sample.columns, classifier.feature_importances_):\n",
    "    feats[feature] = importance #add the name/value pair \n",
    "\n",
    "importances = pd.DataFrame.from_dict(feats, orient='index').rename(columns={0: 'Gini-importance'})\n",
    "importances.sort_values(by='Gini-importance').plot(kind='bar', rot=45)"
   ]
  },
  {
   "cell_type": "code",
   "execution_count": null,
   "metadata": {},
   "outputs": [],
   "source": []
  }
 ],
 "metadata": {
  "kernelspec": {
   "display_name": "Python 3",
   "language": "python",
   "name": "python3"
  },
  "language_info": {
   "codemirror_mode": {
    "name": "ipython",
    "version": 3
   },
   "file_extension": ".py",
   "mimetype": "text/x-python",
   "name": "python",
   "nbconvert_exporter": "python",
   "pygments_lexer": "ipython3",
   "version": "3.7.0"
  }
 },
 "nbformat": 4,
 "nbformat_minor": 2
}
